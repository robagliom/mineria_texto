{
 "cells": [
  {
   "cell_type": "code",
   "execution_count": 56,
   "metadata": {},
   "outputs": [
    {
     "name": "stderr",
     "output_type": "stream",
     "text": [
      "[nltk_data] Downloading package punkt to /home/magdalena/nltk_data...\n",
      "[nltk_data]   Package punkt is already up-to-date!\n",
      "[nltk_data] Downloading package stopwords to\n",
      "[nltk_data]     /home/magdalena/nltk_data...\n",
      "[nltk_data]   Package stopwords is already up-to-date!\n",
      "[nltk_data] Downloading package wordnet to\n",
      "[nltk_data]     /home/magdalena/nltk_data...\n",
      "[nltk_data]   Package wordnet is already up-to-date!\n"
     ]
    }
   ],
   "source": [
    "#Bibliografía: https://medium.com/datos-y-ciencia/preprocesamiento-de-datos-de-texto-un-tutorial-en-python-5db5620f1767\n",
    "#Importaciones necesarias\n",
    "\n",
    "import re, string, unicodedata\n",
    "\n",
    "# NLTK\n",
    "# kit de herramientas de lenguaje natural\n",
    "import nltk #https://www.nltk.org/\n",
    "\n",
    "nltk.download('punkt')\n",
    "nltk.download('stopwords')\n",
    "nltk.download('wordnet')\n",
    "from nltk import word_tokenize, sent_tokenize\n",
    "from nltk.corpus import stopwords\n",
    "from nltk.stem import LancasterStemmer, WordNetLemmatizer\n",
    "from nltk.probability import FreqDist\n",
    "from nltk.corpus import stopwords\n",
    "\n",
    "# CONTRACTIONS\n",
    "import contractions #https://github.com/kootenpv/contractions\n",
    "\n",
    "# INFLECT\n",
    "#para realizar las tareas relacionadas con el lenguaje natural de generar plurales, \n",
    "#sustantivos singulares, ordinales y artículos indefinidos, y \n",
    "#(lo que más nos interesa) convertir números en palabras\n",
    "import inflect #https://pypi.org/project/inflect/\n",
    "\n",
    "# BEAUTIFULSOUP\n",
    "#biblioteca para extraer datos de documentos HTML y XML\n",
    "from bs4 import BeautifulSoup #https://www.crummy.com/software/BeautifulSoup/bs4/doc/\n",
    "\n",
    "#Para abrir urls\n",
    "import urllib.request\n",
    "\n",
    "import matplotlib.pyplot as plt\n",
    "plt.rcParams['figure.figsize'] = (16, 9)\n",
    "plt.style.use('ggplot')\n"
   ]
  },
  {
   "cell_type": "code",
   "execution_count": 44,
   "metadata": {},
   "outputs": [],
   "source": [
    "#guardamos html o xml en variable sample\n",
    "\n",
    "#Leemos url\n",
    "fp = urllib.request.urlopen(\"https://larevancha.pythonanywhere.com/\")\n",
    "#Leemos url\n",
    "mybytes = fp.read()\n",
    "#Guardamos en sample lo que hay\n",
    "sample = mybytes.decode(\"utf8\")\n",
    "#Cerramos la url\n",
    "fp.close()"
   ]
  },
  {
   "cell_type": "code",
   "execution_count": 47,
   "metadata": {},
   "outputs": [],
   "source": [
    "#Función para limpiar html\n",
    "def strip_html(text):\n",
    "    #Eliminar html\n",
    "    soup = BeautifulSoup(text, \"html.parser\")\n",
    "    #Eliminar javascript y css\n",
    "    [x.extract() for x in soup.findAll(['script', 'style'])]\n",
    "    return soup.get_text()\n",
    "\n",
    "def remove_between_square_brackets(text):\n",
    "    return re.sub('\\[[^]]*\\]', '', text)\n",
    "\n",
    "def denoise_text(text):\n",
    "    text = strip_html(text)\n",
    "    text = remove_between_square_brackets(text)\n",
    "    return text\n",
    "\n",
    "sample = denoise_text(sample)"
   ]
  },
  {
   "cell_type": "code",
   "execution_count": 48,
   "metadata": {},
   "outputs": [
    {
     "name": "stdout",
     "output_type": "stream",
     "text": [
      "\n",
      "\n",
      "\n",
      "\n",
      "\n",
      "Home | La Revancha\n",
      "\n",
      "\n",
      "\n",
      "\n",
      "\n",
      "\n",
      "\n",
      "\n",
      "\n",
      "\n",
      "\n",
      "\n",
      "\n",
      "\n",
      "\n",
      "      La Revancha\n",
      "    \n",
      "\n",
      "        Colectivo de mujeres que informa y promueve la práctica del fútbol femenino\r\n",
      "desde una perspectiva de género. Rosario, Argentina.\n",
      "    \n",
      "\n",
      "\n",
      "Continue\n",
      "\n",
      "\n",
      "\n",
      "\n",
      "\n",
      "\n",
      "\n",
      "\n",
      "\n",
      "\n",
      "LÍDERAS\n",
      "\n",
      "\n",
      "            TORNEOS\n",
      "          \n",
      "\n",
      "\n",
      "Fúbol 5\n",
      "\n",
      "Liga San Patricio\n",
      "\n",
      "\n",
      "\n",
      "Fútbol 7\n",
      "\n",
      "Sorrento Fútbol 7\n",
      "\n",
      "\n",
      "\n",
      "Fútbol 11\n",
      "\n",
      "Liga Rosarina\n",
      "\n",
      "\n",
      "\n",
      "Fúbol de Salón\n",
      "\n",
      "Aerofusa\n",
      "\n",
      "\n",
      "\n",
      "Fútbol Playa\n",
      "\n",
      "Playa\n",
      "\n",
      "\n",
      "\n",
      "\n",
      "Fútbol Militante\n",
      "Clubes\n",
      "Escuelas\n",
      "\n",
      "\n",
      "          Mundialista\n",
      "        \n",
      "\n",
      "Selección Argentina de Fútbol 11\n",
      "\n",
      "\n",
      "Galeria\n",
      "Nosotras\n",
      "\n",
      "\n",
      "Facebook\n",
      "\n",
      "\n",
      "\n",
      "\n",
      "\n",
      "\n",
      "\n",
      "\n",
      "\n",
      "\n",
      "\n",
      "Buscar\n",
      "\n",
      "\n",
      "\n",
      "\n",
      "\n",
      "\n",
      "\n",
      "\n",
      "\n",
      "03 Febrero, 2019\n",
      "Noticia de prueba\n",
      "\t\t\t\t\t\t\t\t\n",
      "\n",
      "\n",
      "\n",
      "\n",
      "\n",
      "\t\t\t\t\t\t\t\tUn texto es una composición de signos codificados ...\n",
      "\t\t\t\t\t\t\t\n",
      "\n",
      "Ver Más\n",
      "\n",
      "\n",
      "\n",
      "\n",
      "04 Febrero, 2019\n",
      "Probando 123\n",
      "\t\t\t\t\t\t\t\t\n",
      "\n",
      "\n",
      "\n",
      "\n",
      "\n",
      "\t\t\t\t\t\t\t\t123 probando...\n",
      "\t\t\t\t\t\t\t\n",
      "\n",
      "Ver Más\n",
      "\n",
      "\n",
      "\n",
      "\n",
      "03 Marzo, 2019\n",
      "Otra noticia de prueba\n",
      "\t\t\t\t\t\t\t\t\n",
      "\n",
      "\n",
      "\n",
      "\n",
      "\n",
      "\t\t\t\t\t\t\t\tUn texto es una composición de signos codificados ...\n",
      "\t\t\t\t\t\t\t\n",
      "\n",
      "Ver Más\n",
      "\n",
      "\n",
      "\n",
      "\n",
      "\n",
      "\n",
      "\n",
      "\n",
      "1\n",
      "\n",
      "\n",
      "\n",
      "\n",
      "\n",
      "\n",
      "\n",
      "\n",
      "\n",
      "\n",
      "\n",
      "\n",
      "Nombre\n",
      "\n",
      "\n",
      "\n",
      "Email\n",
      "\n",
      "\n",
      "\n",
      "Asunto\n",
      "\n",
      "\n",
      "\n",
      "Mensaje\n",
      "\n",
      "\n",
      "\n",
      "\n",
      "\n",
      "\n",
      "\n",
      "\n",
      "\n",
      "\n",
      "Dirección\n",
      "San Lorenzo 2000\n",
      "\n",
      "\n",
      "Teléfono\n",
      "3413213232\n",
      "\n",
      "\n",
      "Email\n",
      "robaglio.magdalena@gmail.com\n",
      "\n",
      "\n",
      "Social\n",
      "\n",
      "Facebook\n",
      "\n",
      "\n",
      "\n",
      "\n",
      "\n",
      "\n",
      "\n",
      "\n",
      "\n",
      "\n",
      "\n",
      "\n",
      "\n",
      "\n",
      "\n",
      "\n",
      "\n",
      "\n",
      "\n",
      "\n",
      "\n",
      "\n",
      "\n",
      "\n"
     ]
    }
   ],
   "source": [
    "#Reemplazar contracciones (ej don't por do not)\n",
    "def replace_contractions(text):\n",
    "    \"\"\"Replace contractions in string of text\"\"\"\n",
    "    return contractions.fix(text)\n",
    "\n",
    "sample = replace_contractions(sample)\n",
    "print(sample)"
   ]
  },
  {
   "cell_type": "code",
   "execution_count": 49,
   "metadata": {},
   "outputs": [
    {
     "name": "stdout",
     "output_type": "stream",
     "text": [
      "['Home', '|', 'La', 'Revancha', 'La', 'Revancha', 'Colectivo', 'de', 'mujeres', 'que', 'informa', 'y', 'promueve', 'la', 'práctica', 'del', 'fútbol', 'femenino', 'desde', 'una', 'perspectiva', 'de', 'género', '.', 'Rosario', ',', 'Argentina', '.', 'Continue', 'LÍDERAS', 'TORNEOS', 'Fúbol', '5', 'Liga', 'San', 'Patricio', 'Fútbol', '7', 'Sorrento', 'Fútbol', '7', 'Fútbol', '11', 'Liga', 'Rosarina', 'Fúbol', 'de', 'Salón', 'Aerofusa', 'Fútbol', 'Playa', 'Playa', 'Fútbol', 'Militante', 'Clubes', 'Escuelas', 'Mundialista', 'Selección', 'Argentina', 'de', 'Fútbol', '11', 'Galeria', 'Nosotras', 'Facebook', 'Buscar', '03', 'Febrero', ',', '2019', 'Noticia', 'de', 'prueba', 'Un', 'texto', 'es', 'una', 'composición', 'de', 'signos', 'codificados', '...', 'Ver', 'Más', '04', 'Febrero', ',', '2019', 'Probando', '123', '123', 'probando', '...', 'Ver', 'Más', '03', 'Marzo', ',', '2019', 'Otra', 'noticia', 'de', 'prueba', 'Un', 'texto', 'es', 'una', 'composición', 'de', 'signos', 'codificados', '...', 'Ver', 'Más', '1', 'Nombre', 'Email', 'Asunto', 'Mensaje', 'Dirección', 'San', 'Lorenzo', '2000', 'Teléfono', '3413213232', 'Email', 'robaglio.magdalena', '@', 'gmail.com', 'Social', 'Facebook']\n"
     ]
    }
   ],
   "source": [
    "#Tokenización\n",
    "#divide cadenas de texto más largas en piezas más pequeñas o tokens \n",
    "words = nltk.word_tokenize(sample)\n",
    "print(words)"
   ]
  },
  {
   "cell_type": "code",
   "execution_count": 50,
   "metadata": {},
   "outputs": [
    {
     "name": "stdout",
     "output_type": "stream",
     "text": [
      "['home', 'la', 'revancha', 'la', 'revancha', 'colectivo', 'de', 'mujeres', 'que', 'informa', 'promueve', 'la', 'practica', 'del', 'futbol', 'femenino', 'desde', 'una', 'perspectiva', 'de', 'genero', 'rosario', 'argentina', 'continue', 'lideras', 'torneos', 'fubol', 'five', 'liga', 'san', 'patricio', 'futbol', 'seven', 'sorrento', 'futbol', 'seven', 'futbol', 'eleven', 'liga', 'rosarina', 'fubol', 'de', 'salon', 'aerofusa', 'futbol', 'playa', 'playa', 'futbol', 'militante', 'clubes', 'escuelas', 'mundialista', 'seleccion', 'argentina', 'de', 'futbol', 'eleven', 'galeria', 'nosotras', 'facebook', 'buscar', 'three', 'febrero', 'two thousand and nineteen', 'noticia', 'de', 'prueba', 'un', 'texto', 'es', 'una', 'composicion', 'de', 'signos', 'codificados', 'ver', 'mas', 'four', 'febrero', 'two thousand and nineteen', 'probando', 'one hundred and twenty-three', 'one hundred and twenty-three', 'probando', 'ver', 'mas', 'three', 'marzo', 'two thousand and nineteen', 'otra', 'noticia', 'de', 'prueba', 'un', 'texto', 'es', 'una', 'composicion', 'de', 'signos', 'codificados', 'ver', 'mas', 'one', 'nombre', 'email', 'asunto', 'mensaje', 'direccion', 'san', 'lorenzo', 'two thousand', 'telefono', 'three billion, four hundred and thirteen million, two hundred and thirteen thousand, two hundred and thirty-two', 'email', 'robagliomagdalena', 'gmailcom', 'social', 'facebook']\n"
     ]
    }
   ],
   "source": [
    "#Normalización\n",
    "#poner todo el texto en igualdad de condiciones: convirtiendo todo el texto en el \n",
    "#mismo caso (superior o inferior), eliminando la puntuación, convirtiendo los números \n",
    "#a sus equivalentes de palabras, y así sucesivamente\n",
    "\n",
    "def remove_non_ascii(words):\n",
    "    \"\"\"Eliminar caracteres no ASCII de la lista de palabras en token\"\"\"\n",
    "    new_words = []\n",
    "    for word in words:\n",
    "        new_word = unicodedata.normalize('NFKD', word).encode('ascii', 'ignore').decode('utf-8', 'ignore')\n",
    "        new_words.append(new_word)\n",
    "    return new_words\n",
    "\n",
    "def to_lowercase(words):\n",
    "    \"\"\"Convierte todos los caracteres a minúsculas de la lista de palabras tokenizadas\"\"\"\n",
    "    new_words = []\n",
    "    for word in words:\n",
    "        new_word = word.lower()\n",
    "        new_words.append(new_word)\n",
    "    return new_words\n",
    "\n",
    "def remove_punctuation(words):\n",
    "    \"\"\"Eliminar puntuación de la lista de palabras tokenizadas\"\"\"\n",
    "    new_words = []\n",
    "    for word in words:\n",
    "        new_word = re.sub(r'[^\\w\\s]', '', word)\n",
    "        if new_word != '':\n",
    "            new_words.append(new_word)\n",
    "    return new_words\n",
    "\n",
    "def replace_numbers(words):\n",
    "    \"\"\"Reemplace todas las apariciones de enteros en la lista de palabras tokenizadas con representación textual\"\"\"\n",
    "    p = inflect.engine()\n",
    "    new_words = []\n",
    "    for word in words:\n",
    "        if word.isdigit():\n",
    "            new_word = p.number_to_words(word)\n",
    "            new_words.append(new_word)\n",
    "        else:\n",
    "            new_words.append(word)\n",
    "    return new_words\n",
    "\n",
    "def remove_stopwords(words):\n",
    "    \"\"\"Eliminar palabras de parada de la lista de palabras en token\"\"\"\n",
    "    new_words = []\n",
    "    for word in words:\n",
    "        if word not in stopwords.words('english'):\n",
    "            new_words.append(word)\n",
    "    return new_words\n",
    "\n",
    "def stem_words(words):\n",
    "    \"\"\"Stem words in list of tokenized words\"\"\"\n",
    "    stemmer = LancasterStemmer()\n",
    "    stems = []\n",
    "    for word in words:\n",
    "        stem = stemmer.stem(word)\n",
    "        stems.append(stem)\n",
    "    return stems\n",
    "\n",
    "def lemmatize_verbs(words):\n",
    "    \"\"\"Lemmatize verbs in list of tokenized words\"\"\"\n",
    "    lemmatizer = WordNetLemmatizer()\n",
    "    lemmas = []\n",
    "    for word in words:\n",
    "        lemma = lemmatizer.lemmatize(word, pos='v')\n",
    "        lemmas.append(lemma)\n",
    "    return lemmas\n",
    "\n",
    "def normalize(words):\n",
    "    words = remove_non_ascii(words)\n",
    "    words = to_lowercase(words)\n",
    "    words = remove_punctuation(words)\n",
    "    words = replace_numbers(words)\n",
    "    words = remove_stopwords(words)\n",
    "    return words\n",
    "\n",
    "words = normalize(words)\n",
    "print(words)"
   ]
  },
  {
   "cell_type": "code",
   "execution_count": 51,
   "metadata": {},
   "outputs": [
    {
     "name": "stdout",
     "output_type": "stream",
     "text": [
      "Tokens de origen:\n",
      " ['hom', 'la', 'revanch', 'la', 'revanch', 'colectivo', 'de', 'muj', 'que', 'inform', 'promuev', 'la', 'practic', 'del', 'futbol', 'femenino', 'desd', 'un', 'perspectiv', 'de', 'genero', 'rosario', 'argentin', 'continu', 'lidera', 'torneo', 'fubol', 'fiv', 'lig', 'san', 'patricio', 'futbol', 'sev', 'sorrento', 'futbol', 'sev', 'futbol', 'elev', 'lig', 'rosarin', 'fubol', 'de', 'salon', 'aerofus', 'futbol', 'play', 'play', 'futbol', 'milit', 'club', 'escuela', 'mundialist', 'selecc', 'argentin', 'de', 'futbol', 'elev', 'galer', 'nosotra', 'facebook', 'busc', 'three', 'febrero', 'two thousand and nineteen', 'notic', 'de', 'prueb', 'un', 'texto', 'es', 'un', 'compos', 'de', 'signo', 'codificado', 'ver', 'mas', 'four', 'febrero', 'two thousand and nineteen', 'probando', 'one hundred and twenty-thr', 'one hundred and twenty-thr', 'probando', 'ver', 'mas', 'three', 'marzo', 'two thousand and nineteen', 'otr', 'notic', 'de', 'prueb', 'un', 'texto', 'es', 'un', 'compos', 'de', 'signo', 'codificado', 'ver', 'mas', 'on', 'nombr', 'email', 'asunto', 'mensas', 'direcc', 'san', 'lorenzo', 'two thousand', 'telefono', 'three billion, four hundred and thirteen million, two hundred and thirteen thousand, two hundred and thirty-two', 'email', 'robagliomagdalen', 'gmailcom', 'soc', 'facebook']\n",
      "\n",
      "Lematización:\n",
      " ['home', 'la', 'revancha', 'la', 'revancha', 'colectivo', 'de', 'mujeres', 'que', 'informa', 'promueve', 'la', 'practica', 'del', 'futbol', 'femenino', 'desde', 'una', 'perspectiva', 'de', 'genero', 'rosario', 'argentina', 'continue', 'lideras', 'torneos', 'fubol', 'five', 'liga', 'san', 'patricio', 'futbol', 'seven', 'sorrento', 'futbol', 'seven', 'futbol', 'eleven', 'liga', 'rosarina', 'fubol', 'de', 'salon', 'aerofusa', 'futbol', 'playa', 'playa', 'futbol', 'militante', 'club', 'escuelas', 'mundialista', 'seleccion', 'argentina', 'de', 'futbol', 'eleven', 'galeria', 'nosotras', 'facebook', 'buscar', 'three', 'febrero', 'two thousand and nineteen', 'noticia', 'de', 'prueba', 'un', 'texto', 'es', 'una', 'composicion', 'de', 'signos', 'codificados', 'ver', 'mas', 'four', 'febrero', 'two thousand and nineteen', 'probando', 'one hundred and twenty-three', 'one hundred and twenty-three', 'probando', 'ver', 'mas', 'three', 'marzo', 'two thousand and nineteen', 'otra', 'noticia', 'de', 'prueba', 'un', 'texto', 'es', 'una', 'composicion', 'de', 'signos', 'codificados', 'ver', 'mas', 'one', 'nombre', 'email', 'asunto', 'mensaje', 'direccion', 'san', 'lorenzo', 'two thousand', 'telefono', 'three billion, four hundred and thirteen million, two hundred and thirteen thousand, two hundred and thirty-two', 'email', 'robagliomagdalena', 'gmailcom', 'social', 'facebook']\n"
     ]
    }
   ],
   "source": [
    "def stem_and_lemmatize(words):\n",
    "    stems = stem_words(words)\n",
    "    lemmas = lemmatize_verbs(words)\n",
    "    return stems, lemmas\n",
    "\n",
    "stems, lemmas = stem_and_lemmatize(words)\n",
    "print('Tokens de origen:\\n', stems)\n",
    "print('\\nLematización:\\n', lemmas)\n",
    "#Esto da como resultado un retorno de 2 nuevas listas: una de tokens de origen y \n",
    "#otra de tokens de lematización con respecto a los verbos"
   ]
  },
  {
   "cell_type": "code",
   "execution_count": 52,
   "metadata": {},
   "outputs": [
    {
     "name": "stdout",
     "output_type": "stream",
     "text": [
      "<FreqDist with 74 samples and 119 outcomes>\n"
     ]
    }
   ],
   "source": [
    "#Frecuencia de distribución\n",
    "fdist = FreqDist(lemmas)\n",
    "print(fdist)"
   ]
  },
  {
   "cell_type": "code",
   "execution_count": 53,
   "metadata": {},
   "outputs": [
    {
     "data": {
      "text/plain": [
       "[('de', 8), ('futbol', 7)]"
      ]
     },
     "execution_count": 53,
     "metadata": {},
     "output_type": "execute_result"
    }
   ],
   "source": [
    "fdist.most_common(2)"
   ]
  },
  {
   "cell_type": "code",
   "execution_count": 54,
   "metadata": {},
   "outputs": [
    {
     "data": {
      "image/png": "[encoded data removed]",
      "text/plain": [
       "<Figure size 1152x648 with 1 Axes>"
      ]
     },
     "metadata": {},
     "output_type": "display_data"
    }
   ],
   "source": [
    "# Ploteo frecuencia de distribución\n",
    "fdist.plot(30,cumulative=False)\n",
    "plt.show()"
   ]
  },
  {
   "cell_type": "code",
   "execution_count": 57,
   "metadata": {},
   "outputs": [
    {
     "name": "stdout",
     "output_type": "stream",
     "text": [
      "{'vuestros', 'otra', 'fueron', 'tuviera', 'quienes', 'esta', 'eso', 'habido', 'tuviese', 'habida', 'otras', 'hubieses', 'lo', 'me', 'mío', 'sobre', 'habíais', 'esa', 'fuimos', 'tuviesen', 'con', 'nuestro', 'tuyo', 'poco', 'estuve', 'hubiésemos', 'he', 'sus', 'estés', 'también', 'mucho', 'estad', 'seas', 'fuiste', 'teníamos', 'tendríais', 'estén', 'les', 'seréis', 'éramos', 'hayáis', 'tenemos', 'tuya', 'tened', 'habrá', 'estuvisteis', 'habrán', 'habrían', 'tenga', 'fuerais', 'tenéis', 'ante', 'otros', 'cual', 'habremos', 'seré', 'estuvieran', 'eran', 'tuvisteis', 'hubiéramos', 'hasta', 'hayas', 'tuve', 'todo', 'estuviesen', 'sois', 'estarían', 'estas', 'os', 'algunas', 'esas', 'tenidos', 'algunos', 'mi', 'son', 'estaremos', 'estuvieras', 'has', 'pero', 'estado', 'hubieseis', 'está', 'ellos', 'estabais', 'que', 'nuestras', 'fuese', 'habías', 'míos', 'siente', 'habidas', 'tengas', 'tuvieras', 'antes', 'nuestra', 'estaríamos', 'hayan', 'tuvieran', 'estuviese', 'seríamos', 'estando', 'todos', 'sin', 'fueran', 'tengan', 'tendríamos', 'algo', 'estéis', 'estoy', 'esté', 'serían', 'estos', 'a', 'estuviera', 'uno', 'estáis', 'e', 'han', 'más', 'donde', 'estaban', 'habían', 'hubieran', 'fueseis', 'hubisteis', 'tuyas', 'tenido', 'fue', 'tus', 'tengamos', 'hubo', 'teniendo', 'eras', 'tendrían', 'mías', 'fuisteis', 'será', 'serán', 'sentid', 'somos', 'sí', 'él', 'de', 'estará', 'se', 'para', 'estuvieses', 'tuvieses', 'cuando', 'estadas', 'mis', 'entre', 'una', 'vuestra', 'estados', 'estarías', 'habríamos', 'es', 'estuvieseis', 'tengáis', 'tuvo', 'hubiste', 'sería', 'haya', 'tendrán', 'en', 'sentido', 'la', 'y', 'estábamos', 'tenían', 'porque', 'muchos', 'por', 'hubieron', 'tendrías', 'hay', 'hemos', 'estada', 'ti', 'serías', 'tanto', 'estarán', 'estuvo', 'habréis', 'sentidas', 'habéis', 'durante', 'mí', 'sintiendo', 'tendré', 'estaría', 'tenías', 'fueses', 'nuestros', 'habidos', 'quien', 'sea', 'estás', 'vuestras', 'hubimos', 'hubiese', 'soy', 'fui', 'suyas', 'fueras', 'tuvieseis', 'tuviésemos', 'un', 'hubiesen', 'nosotros', 'muy', 'hubieras', 'desde', 'serás', 'tendría', 'tuvimos', 'tenidas', 'estamos', 'estuvimos', 'habrás', 'le', 'tiene', 'mía', 'tienes', 'seríais', 'estemos', 'ha', 'fuéramos', 'seamos', 'sentida', 'o', 'están', 'te', 'tuvierais', 'teníais', 'tendremos', 'estuvierais', 'tendrás', 'unos', 'suya', 'erais', 'al', 'no', 'ese', 'otro', 'este', 'hube', 'las', 'tu', 'fuesen', 'habríais', 'seáis', 'tú', 'esto', 'tenía', 'habrías', 'estaré', 'tuviste', 'hubierais', 'estabas', 'su', 'fuésemos', 'qué', 'del', 'suyo', 'tuyos', 'estar', 'sentidos', 'ya', 'estaba', 'suyos', 'estuvieron', 'estuviéramos', 'habría', 'vosostras', 'vuestro', 'fuera', 'tengo', 'nosotras', 'tendréis', 'esos', 'ni', 'ellas', 'tienen', 'tuvieron', 'habíamos', 'sean', 'el', 'era', 'estarás', 'nada', 'estaréis', 'tenida', 'estuviste', 'nos', 'los', 'yo', 'hayamos', 'hubiera', 'contra', 'ella', 'estaríais', 'eres', 'tendrá', 'habré', 'había', 'como', 'seremos', 'estuviésemos', 'tuviéramos', 'vosostros', 'habiendo'}\n"
     ]
    }
   ],
   "source": [
    "#Las palabras clave se consideran como ruido en el texto. Las eliminamos\n",
    "stop_words=set(stopwords.words(\"spanish\"))\n",
    "print(stop_words)"
   ]
  },
  {
   "cell_type": "code",
   "execution_count": 59,
   "metadata": {},
   "outputs": [
    {
     "name": "stdout",
     "output_type": "stream",
     "text": [
      "Tokenized Sentence: ['home', 'la', 'revancha', 'la', 'revancha', 'colectivo', 'de', 'mujeres', 'que', 'informa', 'promueve', 'la', 'practica', 'del', 'futbol', 'femenino', 'desde', 'una', 'perspectiva', 'de', 'genero', 'rosario', 'argentina', 'continue', 'lideras', 'torneos', 'fubol', 'five', 'liga', 'san', 'patricio', 'futbol', 'seven', 'sorrento', 'futbol', 'seven', 'futbol', 'eleven', 'liga', 'rosarina', 'fubol', 'de', 'salon', 'aerofusa', 'futbol', 'playa', 'playa', 'futbol', 'militante', 'club', 'escuelas', 'mundialista', 'seleccion', 'argentina', 'de', 'futbol', 'eleven', 'galeria', 'nosotras', 'facebook', 'buscar', 'three', 'febrero', 'two thousand and nineteen', 'noticia', 'de', 'prueba', 'un', 'texto', 'es', 'una', 'composicion', 'de', 'signos', 'codificados', 'ver', 'mas', 'four', 'febrero', 'two thousand and nineteen', 'probando', 'one hundred and twenty-three', 'one hundred and twenty-three', 'probando', 'ver', 'mas', 'three', 'marzo', 'two thousand and nineteen', 'otra', 'noticia', 'de', 'prueba', 'un', 'texto', 'es', 'una', 'composicion', 'de', 'signos', 'codificados', 'ver', 'mas', 'one', 'nombre', 'email', 'asunto', 'mensaje', 'direccion', 'san', 'lorenzo', 'two thousand', 'telefono', 'three billion, four hundred and thirteen million, two hundred and thirteen thousand, two hundred and thirty-two', 'email', 'robagliomagdalena', 'gmailcom', 'social', 'facebook']\n",
      "Filterd Sentence: ['home', 'revancha', 'revancha', 'colectivo', 'mujeres', 'informa', 'promueve', 'practica', 'futbol', 'femenino', 'perspectiva', 'genero', 'rosario', 'argentina', 'continue', 'lideras', 'torneos', 'fubol', 'five', 'liga', 'san', 'patricio', 'futbol', 'seven', 'sorrento', 'futbol', 'seven', 'futbol', 'eleven', 'liga', 'rosarina', 'fubol', 'salon', 'aerofusa', 'futbol', 'playa', 'playa', 'futbol', 'militante', 'club', 'escuelas', 'mundialista', 'seleccion', 'argentina', 'futbol', 'eleven', 'galeria', 'facebook', 'buscar', 'three', 'febrero', 'two thousand and nineteen', 'noticia', 'prueba', 'texto', 'composicion', 'signos', 'codificados', 'ver', 'mas', 'four', 'febrero', 'two thousand and nineteen', 'probando', 'one hundred and twenty-three', 'one hundred and twenty-three', 'probando', 'ver', 'mas', 'three', 'marzo', 'two thousand and nineteen', 'noticia', 'prueba', 'texto', 'composicion', 'signos', 'codificados', 'ver', 'mas', 'one', 'nombre', 'email', 'asunto', 'mensaje', 'direccion', 'san', 'lorenzo', 'two thousand', 'telefono', 'three billion, four hundred and thirteen million, two hundred and thirteen thousand, two hundred and thirty-two', 'email', 'robagliomagdalena', 'gmailcom', 'social', 'facebook']\n"
     ]
    }
   ],
   "source": [
    "filtered_sent=[]\n",
    "for w in lemmas:\n",
    "    if w not in stop_words:\n",
    "        filtered_sent.append(w)\n",
    "print(\"Tokenized Sentence:\",lemmas)\n",
    "print(\"Filterd Sentence:\",filtered_sent)"
   ]
  },
  {
   "cell_type": "code",
   "execution_count": 61,
   "metadata": {},
   "outputs": [
    {
     "data": {
      "image/png": "[encoded data removed]",
      "text/plain": [
       "<Figure size 1152x648 with 1 Axes>"
      ]
     },
     "metadata": {},
     "output_type": "display_data"
    }
   ],
   "source": [
    "#Frecuencia de distribución\n",
    "fdist = FreqDist(filtered_sent)\n",
    "\n",
    "# Ploteo frecuencia de distribución\n",
    "fdist.plot(30,cumulative=False)\n",
    "plt.show()"
   ]
  }
 ],
 "metadata": {
  "kernelspec": {
   "display_name": "Python 3",
   "language": "python",
   "name": "python3"
  },
  "language_info": {
   "codemirror_mode": {
    "name": "ipython",
    "version": 3
   },
   "file_extension": ".py",
   "mimetype": "text/x-python",
   "name": "python",
   "nbconvert_exporter": "python",
   "pygments_lexer": "ipython3",
   "version": "3.6.7"
  }
 },
 "nbformat": 4,
 "nbformat_minor": 2
}
